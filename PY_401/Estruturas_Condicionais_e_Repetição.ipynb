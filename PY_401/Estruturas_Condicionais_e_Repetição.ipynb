{
  "nbformat": 4,
  "nbformat_minor": 0,
  "metadata": {
    "colab": {
      "provenance": [],
      "collapsed_sections": [],
      "include_colab_link": true
    },
    "kernelspec": {
      "name": "python3",
      "display_name": "Python 3"
    }
  },
  "cells": [
    {
      "cell_type": "markdown",
      "metadata": {
        "id": "view-in-github",
        "colab_type": "text"
      },
      "source": [
        "<a href=\"https://colab.research.google.com/github/orickprazeres/MissaoPythonDoZero---Sigmoidal/blob/main/PY_401/Estruturas_Condicionais_e_Repeti%C3%A7%C3%A3o.ipynb\" target=\"_parent\"><img src=\"https://colab.research.google.com/assets/colab-badge.svg\" alt=\"Open In Colab\"/></a>"
      ]
    },
    {
      "cell_type": "markdown",
      "metadata": {
        "id": "sZ5OjtVEoFUF"
      },
      "source": [
        "<img alt=\"Colaboratory logo\" width=\"15%\" src=\"https://raw.githubusercontent.com/carlosfab/escola-data-science/master/img/novo_logo_bg_claro.png\">\n",
        "\n",
        "---\n",
        "\n",
        "## Estruturas Condicionais e de Repetição\n",
        "\n",
        "\n",
        "<center><img width=\"45%\" src=\"https://github.com/rafaelnduarte/sigmoidal_data/blob/master/loops.png?raw=true\"></center>\n",
        "\n",
        "\n",
        "Nesta aula, você irá aprender algumas das principais estruturas lógicas e de repetição, que irão agregar muitas funcionalidades para o seu código.\n",
        "\n",
        "Obviamente, as estruturas existentes são bem mais extensas que as apresentadas aqui. Porém, aqui você terá uma visão geral daquelas que fazem mais sentido neste momento, com foco sempre no curso Data Science na Prática.\n",
        "\n",
        "É importante ressaltar que a identação é muito importante aqui, pois podemos encontrar erros simplesmente por não ter feito a identação corretamente. Portanto, muita atenção ao criar essas estruturas."
      ]
    },
    {
      "cell_type": "markdown",
      "metadata": {
        "id": "mbfYlMXJoV-f"
      },
      "source": [
        "### If Statement\n",
        "\n",
        "O `if` , que significa \"se\", faz uma análise baseada em condições. Pode rodar ou pular frações de códigos, dependendo se a condição recebe um `True` ou `False`."
      ]
    },
    {
      "cell_type": "code",
      "metadata": {
        "id": "m7c_LRMxpCdB",
        "colab": {
          "base_uri": "https://localhost:8080/"
        },
        "outputId": "bb1461d6-bf2a-49a2-c32c-8649555302fa"
      },
      "source": [
        "# associando a idade\n",
        "carlos = 35\n",
        "\n",
        "# criando a condição\n",
        "if carlos >= 18:\n",
        "    print(\"Pode comprar bebida.\")\n",
        "else:\n",
        "    print(\"Não pode comprar bebida.\")"
      ],
      "execution_count": 33,
      "outputs": [
        {
          "output_type": "stream",
          "name": "stdout",
          "text": [
            "Pode comprar bebida.\n"
          ]
        }
      ]
    },
    {
      "cell_type": "code",
      "metadata": {
        "id": "0Bn4A19GpcL3",
        "colab": {
          "base_uri": "https://localhost:8080/"
        },
        "outputId": "102bddd9-f3d7-4028-d703-229daf1df964"
      },
      "source": [
        "# associando a idade\n",
        "pedro = 17\n",
        "\n",
        "# criando a condição\n",
        "if pedro >= 18:\n",
        "    print(\"Pode comprar bebida.\")\n",
        "else:\n",
        "    print(\"Não pode comprar bebida.\")"
      ],
      "execution_count": 34,
      "outputs": [
        {
          "output_type": "stream",
          "name": "stdout",
          "text": [
            "Não pode comprar bebida.\n"
          ]
        }
      ]
    },
    {
      "cell_type": "code",
      "metadata": {
        "id": "iTFHgrTvpeyU",
        "colab": {
          "base_uri": "https://localhost:8080/"
        },
        "outputId": "afff0295-467e-410c-d92d-7f175ab2f841"
      },
      "source": [
        "# criando variáveis\n",
        "carlos_idade = 35\n",
        "carlos_cnh = True\n",
        "carlos_pontos_cnh = 16\n",
        "\n",
        "# criando a condição\n",
        "if carlos_idade >= 18 and carlos_cnh and carlos_pontos_cnh < 20:\n",
        "    print(\"Pode alugar carro!\")\n",
        "else:\n",
        "    print(\"Não pode alugar carro.\")"
      ],
      "execution_count": 35,
      "outputs": [
        {
          "output_type": "stream",
          "name": "stdout",
          "text": [
            "Pode alugar carro!\n"
          ]
        }
      ]
    },
    {
      "cell_type": "code",
      "metadata": {
        "id": "VnwUp9F9qSXZ",
        "colab": {
          "base_uri": "https://localhost:8080/"
        },
        "outputId": "4dcff315-8fdf-49c3-8896-922f85a20882"
      },
      "source": [
        "# criando variáveis\n",
        "saldo = 100.00\n",
        "compra_efetuada = 25.90\n",
        "\n",
        "# criando condição\n",
        "print(\"Saldo Inicial:\", saldo)\n",
        "if compra_efetuada:\n",
        "    saldo = saldo - compra_efetuada\n",
        "    print(\"Saldo Atual:\", saldo)"
      ],
      "execution_count": 36,
      "outputs": [
        {
          "output_type": "stream",
          "name": "stdout",
          "text": [
            "Saldo Inicial: 100.0\n",
            "Saldo Atual: 74.1\n"
          ]
        }
      ]
    },
    {
      "cell_type": "markdown",
      "metadata": {
        "id": "yjmePENrrSmt"
      },
      "source": [
        "### For Loops\n",
        "\n",
        "Permite que você **repita** pedaços de códigos, evitando que você tenha que repetir códigos manualmente. O `For` permite que você execute uma determinada ação **até que** uma determinada condição tenha sido atingida.\n",
        "\n",
        "<center><img width=\"45%\" src=\"https://www.thoughtco.com/thmb/vydcEQSm6eJeuNKYYy5EtViCtQw=/3429x2572/smart/filters:no_upscale()/Getty_repetition-183814724-58b9a3843df78c353c11806d.jpg\"></center>\n",
        "\n"
      ]
    },
    {
      "cell_type": "code",
      "metadata": {
        "id": "VcHnzvgJr1qO",
        "colab": {
          "base_uri": "https://localhost:8080/"
        },
        "outputId": "c21265df-51ab-4c81-d37d-e7f8e3b37719"
      },
      "source": [
        "import time\n",
        "\n",
        "# listando números no range 10\n",
        "for n in range(10):\n",
        "    print(n)\n",
        "    time.sleep(1) # realizando um deplay no deploy"
      ],
      "execution_count": 37,
      "outputs": [
        {
          "output_type": "stream",
          "name": "stdout",
          "text": [
            "0\n",
            "1\n",
            "2\n",
            "3\n",
            "4\n",
            "5\n",
            "6\n",
            "7\n",
            "8\n",
            "9\n"
          ]
        }
      ]
    },
    {
      "cell_type": "markdown",
      "source": [],
      "metadata": {
        "id": "iR1M6e696Np4"
      }
    },
    {
      "cell_type": "code",
      "metadata": {
        "id": "6UDVWn7erUKD",
        "colab": {
          "base_uri": "https://localhost:8080/"
        },
        "outputId": "0855d317-66f7-4482-fae2-1be0af0cac28"
      },
      "source": [
        "# listando convidados na lista, enquanto houverem convidados\n",
        "lista_convidados = [\"Carlos\", \"Fernanda\", \"Theo\", \"Snow\"]\n",
        "\n",
        "# para uma VARIAVEL dentro de UMA SEQUENCIA\n",
        "for pescador_parrudo in lista_convidados:\n",
        "    print(pescador_parrudo)\n",
        "    time.sleep(1)"
      ],
      "execution_count": 38,
      "outputs": [
        {
          "output_type": "stream",
          "name": "stdout",
          "text": [
            "Carlos\n",
            "Fernanda\n",
            "Theo\n",
            "Snow\n"
          ]
        }
      ]
    },
    {
      "cell_type": "code",
      "metadata": {
        "id": "I4meWtCjsEXA",
        "colab": {
          "base_uri": "https://localhost:8080/"
        },
        "outputId": "24f50410-6574-4f5f-d8b5-92f56853a3ef"
      },
      "source": [
        "# multiplicando números dentro do range\n",
        "for i in range(11):\n",
        "    resultado = i * 9\n",
        "    print(\"9 x\", i, \"=\", resultado)"
      ],
      "execution_count": 39,
      "outputs": [
        {
          "output_type": "stream",
          "name": "stdout",
          "text": [
            "9 x 0 = 0\n",
            "9 x 1 = 9\n",
            "9 x 2 = 18\n",
            "9 x 3 = 27\n",
            "9 x 4 = 36\n",
            "9 x 5 = 45\n",
            "9 x 6 = 54\n",
            "9 x 7 = 63\n",
            "9 x 8 = 72\n",
            "9 x 9 = 81\n",
            "9 x 10 = 90\n"
          ]
        }
      ]
    },
    {
      "cell_type": "markdown",
      "metadata": {
        "id": "X-utqQV7sVFK"
      },
      "source": [
        "### While Loops\n",
        "\n",
        "Similar ao `for` *loop*, o `while` *loop* cria uma repetição em cima de determinada ação. No entanto, enquanto no *for* nós indicávamos a quantidade de vezes que determinada ação deveria ser executada, o *while* continua repetindo uma ação até que determinada condição de parada seja atingida."
      ]
    },
    {
      "cell_type": "code",
      "source": [
        "for i in [\"Carlos\", \"Fernanda\", \"Theo\", \"Raquel\", \"Helena\", \"Catarina\"]:\n",
        "    print(\"i:\", i)"
      ],
      "metadata": {
        "colab": {
          "base_uri": "https://localhost:8080/"
        },
        "id": "7OEkG9N-82O9",
        "outputId": "158fe6ac-9f9e-4537-c142-db4a8e78dcba"
      },
      "execution_count": 40,
      "outputs": [
        {
          "output_type": "stream",
          "name": "stdout",
          "text": [
            "i: Carlos\n",
            "i: Fernanda\n",
            "i: Theo\n",
            "i: Raquel\n",
            "i: Helena\n",
            "i: Catarina\n"
          ]
        }
      ]
    },
    {
      "cell_type": "code",
      "source": [
        "for indice, elemento_da_sequencia in enumerate([\"Carlos\", \"Fernanda\", \"Theo\", \"Raquel\", \"Helena\", \"Catarina\"]):\n",
        "    print(\"i:\", i)"
      ],
      "metadata": {
        "colab": {
          "base_uri": "https://localhost:8080/"
        },
        "id": "ViUY9yZn8blb",
        "outputId": "cab889b5-2994-4b08-b663-db5382ac30fd"
      },
      "execution_count": 41,
      "outputs": [
        {
          "output_type": "stream",
          "name": "stdout",
          "text": [
            "i: Catarina\n",
            "i: Catarina\n",
            "i: Catarina\n",
            "i: Catarina\n",
            "i: Catarina\n",
            "i: Catarina\n"
          ]
        }
      ]
    },
    {
      "cell_type": "code",
      "source": [
        "i"
      ],
      "metadata": {
        "colab": {
          "base_uri": "https://localhost:8080/",
          "height": 35
        },
        "id": "9fZG7LF99Q8x",
        "outputId": "201d4998-41f8-45de-f7b2-1a00c60e1e1c"
      },
      "execution_count": 42,
      "outputs": [
        {
          "output_type": "execute_result",
          "data": {
            "text/plain": [
              "'Catarina'"
            ],
            "application/vnd.google.colaboratory.intrinsic+json": {
              "type": "string"
            }
          },
          "metadata": {},
          "execution_count": 42
        }
      ]
    },
    {
      "cell_type": "code",
      "source": [
        "idade = 10\n",
        "print(idade)"
      ],
      "metadata": {
        "colab": {
          "base_uri": "https://localhost:8080/"
        },
        "id": "bLBB4fn_-4yV",
        "outputId": "87687ce8-cbda-449f-f935-118e9b87680f"
      },
      "execution_count": 43,
      "outputs": [
        {
          "output_type": "stream",
          "name": "stdout",
          "text": [
            "10\n"
          ]
        }
      ]
    },
    {
      "cell_type": "code",
      "source": [
        "idade -= 1\n",
        "# idade = idade - 1\n",
        "print(idade)"
      ],
      "metadata": {
        "colab": {
          "base_uri": "https://localhost:8080/"
        },
        "id": "2jmWuZyK-94z",
        "outputId": "91b9f1f8-1f73-49f6-fb5a-155cbe8cf1c7"
      },
      "execution_count": 44,
      "outputs": [
        {
          "output_type": "stream",
          "name": "stdout",
          "text": [
            "9\n"
          ]
        }
      ]
    },
    {
      "cell_type": "code",
      "source": [
        "300 -80.50 -80.50 -80.50"
      ],
      "metadata": {
        "colab": {
          "base_uri": "https://localhost:8080/"
        },
        "id": "qhDpwjFaAQxR",
        "outputId": "fb7bb27f-0d29-4f24-e072-2f1f65364c47"
      },
      "execution_count": 45,
      "outputs": [
        {
          "output_type": "execute_result",
          "data": {
            "text/plain": [
              "58.5"
            ]
          },
          "metadata": {},
          "execution_count": 45
        }
      ]
    },
    {
      "cell_type": "code",
      "metadata": {
        "id": "CJ_NljR_tE_p",
        "colab": {
          "base_uri": "https://localhost:8080/"
        },
        "outputId": "3bee813e-f6c2-474e-b5f9-bd7ff96593dc"
      },
      "source": [
        "# saldo na minha conta bancária\n",
        "saldo = 300.00\n",
        "\n",
        "# preço da pizza em São José dos Campos\n",
        "preco_pizza = 80.50\n",
        "\n",
        "# quantidade de pizzas já comidas\n",
        "pizzas = 0\n",
        "\n",
        "# comprar e comer pizza enquanto eu tiver dinheiro para pagar\n",
        "while saldo >= preco_pizza:\n",
        "    pizzas = pizzas + 1  \n",
        "    saldo = saldo - preco_pizza\n",
        "\n",
        "# quantas pizzas eu comi?\n",
        "print(\"Você comeu\", pizzas, \"pizzas!\")\n",
        "\n",
        "# qual o saldo remanescente na minha conta?\n",
        "print(\"Saldo remanescente na conta: R$\", saldo)"
      ],
      "execution_count": 46,
      "outputs": [
        {
          "output_type": "stream",
          "name": "stdout",
          "text": [
            "Você comeu 3 pizzas!\n",
            "Saldo remanescente na conta: R$ 58.5\n"
          ]
        }
      ]
    },
    {
      "cell_type": "code",
      "metadata": {
        "id": "6J9CfXKutysb",
        "colab": {
          "base_uri": "https://localhost:8080/"
        },
        "outputId": "c0bb28b0-9eab-4751-f03b-45d1886cbfb7"
      },
      "source": [
        "validade_yakult = 10\n",
        "\n",
        "while validade_yakult > 0:\n",
        "    print(\"[+] Produto na validade. Faltam\", validade_yakult, \"dias.\")\n",
        "    validade_yakult = validade_yakult - 1\n",
        "\n",
        "print(\"[-] ATENÇÃO: Yogurt vencido. Faltam\", validade_yakult, \"dias.\")"
      ],
      "execution_count": 47,
      "outputs": [
        {
          "output_type": "stream",
          "name": "stdout",
          "text": [
            "[+] Produto na validade. Faltam 10 dias.\n",
            "[+] Produto na validade. Faltam 9 dias.\n",
            "[+] Produto na validade. Faltam 8 dias.\n",
            "[+] Produto na validade. Faltam 7 dias.\n",
            "[+] Produto na validade. Faltam 6 dias.\n",
            "[+] Produto na validade. Faltam 5 dias.\n",
            "[+] Produto na validade. Faltam 4 dias.\n",
            "[+] Produto na validade. Faltam 3 dias.\n",
            "[+] Produto na validade. Faltam 2 dias.\n",
            "[+] Produto na validade. Faltam 1 dias.\n",
            "[-] ATENÇÃO: Yogurt vencido. Faltam 0 dias.\n"
          ]
        }
      ]
    },
    {
      "cell_type": "markdown",
      "metadata": {
        "id": "ObJ8s4032qQ_"
      },
      "source": [
        "## Exercícios\n",
        "Agora estamos prontos para colocar a mão na massa e criar algumas estruturas condicionais.\n",
        "\n",
        "<center><img width=\"45%\" src=\"https://l3leadership.org/wp-content/uploads/2017/01/repitition.jpg\"></center>"
      ]
    },
    {
      "cell_type": "markdown",
      "metadata": {
        "id": "v4NYJnMa467s"
      },
      "source": [
        "### Exercício 1\n",
        "Crie uma estrutura condicional para verificar se a pessoa pode alugar um carro."
      ]
    },
    {
      "cell_type": "code",
      "metadata": {
        "id": "CL0mJMXou1Pj",
        "colab": {
          "base_uri": "https://localhost:8080/"
        },
        "outputId": "ba32fa75-3a4d-4848-9323-8921dc56ef1e"
      },
      "source": [
        "# resposta\n",
        "idade = 26\n",
        "cnh = True\n",
        "\n",
        "if idade >= 20 and cnh == True:\n",
        "  print('Pode alugar!')\n",
        "else:\n",
        "  print('Não pode alugar!')"
      ],
      "execution_count": 48,
      "outputs": [
        {
          "output_type": "stream",
          "name": "stdout",
          "text": [
            "Pode alugar!\n"
          ]
        }
      ]
    },
    {
      "cell_type": "code",
      "metadata": {
        "id": "F5SWy7g75skL",
        "cellView": "form",
        "colab": {
          "base_uri": "https://localhost:8080/"
        },
        "outputId": "48a8cf4d-d216-4242-cc60-1dfacec55fa0"
      },
      "source": [
        "#@title Solução\n",
        "idade= 25\n",
        "cnh = True\n",
        "\n",
        "if idade >= 21 & cnh == True:\n",
        "  print(\"Você pode alugar um carro.\")\n",
        "else:\n",
        "  print(\"Você não pode alugar um carro.\")"
      ],
      "execution_count": 49,
      "outputs": [
        {
          "output_type": "stream",
          "name": "stdout",
          "text": [
            "Você pode alugar um carro.\n"
          ]
        }
      ]
    },
    {
      "cell_type": "markdown",
      "metadata": {
        "id": "7uzqD0Gg7U01"
      },
      "source": [
        "### Exercício 2\n",
        "Crie uma lista com 5 elementos, e crie uma estrutura condicional para listar todos os items da lista."
      ]
    },
    {
      "cell_type": "code",
      "metadata": {
        "id": "wWADidSy6hMx",
        "colab": {
          "base_uri": "https://localhost:8080/"
        },
        "outputId": "bd22955e-9e67-443a-b985-6d18fb872bfe"
      },
      "source": [
        "# resposta\n",
        "jogos = ['Dama', 'Xadrez', 'Futebol', 'Jogo da Vida']\n",
        "for jogo in jogos:\n",
        "  print(jogo)"
      ],
      "execution_count": 50,
      "outputs": [
        {
          "output_type": "stream",
          "name": "stdout",
          "text": [
            "Dama\n",
            "Xadrez\n",
            "Futebol\n",
            "Jogo da Vida\n"
          ]
        }
      ]
    },
    {
      "cell_type": "code",
      "metadata": {
        "id": "UbaRLJVS98Ib",
        "colab": {
          "base_uri": "https://localhost:8080/"
        },
        "cellView": "form",
        "outputId": "92b8b721-0301-4861-aed9-93056fd1258e"
      },
      "source": [
        "#@title Solução\n",
        "frutas = ['Banana', 'Laranja', 'Macã', 'Abacaxi', 'Morango']\n",
        "\n",
        "for i in frutas:\n",
        "  print(i)"
      ],
      "execution_count": 51,
      "outputs": [
        {
          "output_type": "stream",
          "name": "stdout",
          "text": [
            "Banana\n",
            "Laranja\n",
            "Macã\n",
            "Abacaxi\n",
            "Morango\n"
          ]
        }
      ]
    },
    {
      "cell_type": "markdown",
      "metadata": {
        "id": "PQwcMhc2_afi"
      },
      "source": [
        "### Exercício 3\n",
        "Crie uma estrutura condicional para calcular os dias até o final do mês."
      ]
    },
    {
      "cell_type": "code",
      "metadata": {
        "id": "6tHJEBelwENf",
        "colab": {
          "base_uri": "https://localhost:8080/"
        },
        "outputId": "8b256f18-8b71-41dc-83a9-debd79480a49"
      },
      "source": [
        "# resposta\n",
        "dia_mes = 31\n",
        "\n",
        "while dia_mes >0:\n",
        "  print(f\"Faltam {dia_mes} dias.\")\n",
        "  dia_mes = dia_mes - 1\n",
        "print(f'Fim do mês! Faltam {dia_mes} dias')"
      ],
      "execution_count": 52,
      "outputs": [
        {
          "output_type": "stream",
          "name": "stdout",
          "text": [
            "Faltam 31 dias.\n",
            "Faltam 30 dias.\n",
            "Faltam 29 dias.\n",
            "Faltam 28 dias.\n",
            "Faltam 27 dias.\n",
            "Faltam 26 dias.\n",
            "Faltam 25 dias.\n",
            "Faltam 24 dias.\n",
            "Faltam 23 dias.\n",
            "Faltam 22 dias.\n",
            "Faltam 21 dias.\n",
            "Faltam 20 dias.\n",
            "Faltam 19 dias.\n",
            "Faltam 18 dias.\n",
            "Faltam 17 dias.\n",
            "Faltam 16 dias.\n",
            "Faltam 15 dias.\n",
            "Faltam 14 dias.\n",
            "Faltam 13 dias.\n",
            "Faltam 12 dias.\n",
            "Faltam 11 dias.\n",
            "Faltam 10 dias.\n",
            "Faltam 9 dias.\n",
            "Faltam 8 dias.\n",
            "Faltam 7 dias.\n",
            "Faltam 6 dias.\n",
            "Faltam 5 dias.\n",
            "Faltam 4 dias.\n",
            "Faltam 3 dias.\n",
            "Faltam 2 dias.\n",
            "Faltam 1 dias.\n",
            "Fim do mês! Faltam 0 dias\n"
          ]
        }
      ]
    },
    {
      "cell_type": "code",
      "metadata": {
        "id": "iIB8Zjag_q3r",
        "colab": {
          "base_uri": "https://localhost:8080/"
        },
        "cellView": "form",
        "outputId": "8543d40e-e553-4f4c-a62e-eba02fdd6cc8"
      },
      "source": [
        "#@title Solução\n",
        "dia_mes = 30\n",
        "\n",
        "while dia_mes > 0:\n",
        "    print(\"Faltam\", dia_mes, \"dias.\")\n",
        "    dia_mes -= 1\n",
        "\n",
        "print(\"Fim do mês! Faltam\", dia_mes, \"dias.\")"
      ],
      "execution_count": 53,
      "outputs": [
        {
          "output_type": "stream",
          "name": "stdout",
          "text": [
            "Faltam 30 dias.\n",
            "Faltam 29 dias.\n",
            "Faltam 28 dias.\n",
            "Faltam 27 dias.\n",
            "Faltam 26 dias.\n",
            "Faltam 25 dias.\n",
            "Faltam 24 dias.\n",
            "Faltam 23 dias.\n",
            "Faltam 22 dias.\n",
            "Faltam 21 dias.\n",
            "Faltam 20 dias.\n",
            "Faltam 19 dias.\n",
            "Faltam 18 dias.\n",
            "Faltam 17 dias.\n",
            "Faltam 16 dias.\n",
            "Faltam 15 dias.\n",
            "Faltam 14 dias.\n",
            "Faltam 13 dias.\n",
            "Faltam 12 dias.\n",
            "Faltam 11 dias.\n",
            "Faltam 10 dias.\n",
            "Faltam 9 dias.\n",
            "Faltam 8 dias.\n",
            "Faltam 7 dias.\n",
            "Faltam 6 dias.\n",
            "Faltam 5 dias.\n",
            "Faltam 4 dias.\n",
            "Faltam 3 dias.\n",
            "Faltam 2 dias.\n",
            "Faltam 1 dias.\n",
            "Fim do mês! Faltam 0 dias.\n"
          ]
        }
      ]
    },
    {
      "cell_type": "code",
      "metadata": {
        "id": "azptzq2QAm5X"
      },
      "source": [],
      "execution_count": 53,
      "outputs": []
    }
  ]
}